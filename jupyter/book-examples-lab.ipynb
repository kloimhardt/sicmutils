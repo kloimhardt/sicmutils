{
 "cells": [
  {
   "cell_type": "markdown",
   "metadata": {},
   "source": [
    "# Examples from the SICM book"
   ]
  },
  {
   "cell_type": "markdown",
   "metadata": {},
   "source": [
    "The chapters and subsections correspond to the second edition of SICM. Comments please to https://github.com/kloimhardt"
   ]
  },
  {
   "cell_type": "code",
   "execution_count": 41,
   "metadata": {},
   "outputs": [],
   "source": [
    "(require '[clojupyter.misc.helper :as helper])\n",
    "(run! helper/add-dependencies '[[net.littleredcomputer/sicmutils \"0.12.0-SNAPSHOT\"]])\n",
    "(ns book-examples\n",
    "    (:refer-clojure :exclude [partial zero? + - * / ref])\n",
    "    (:require [clojure.spec.alpha :as s]\n",
    "              [clojure.spec.test.alpha :as ts]\n",
    "              [sicmutils.env :refer :all :as env]\n",
    "              [sicmutils.mechanics.lagrange :as lg]\n",
    "              [sicmutils.numerical.minimize :as mn]\n",
    "              [clojupyter.protocol.mime-convertible :as mc]))"
   ]
  },
  {
   "cell_type": "markdown",
   "metadata": {},
   "source": [
    "## 1.4 Computing Actions"
   ]
  },
  {
   "cell_type": "markdown",
   "metadata": {},
   "source": [
    "Calculate the action for the free particle along a path. Consider the particle moving at uniform speed along a straight line."
   ]
  },
  {
   "cell_type": "code",
   "execution_count": 42,
   "metadata": {},
   "outputs": [
    {
     "data": {
      "text/plain": [
       "435.0"
      ]
     },
     "execution_count": 42,
     "metadata": {},
     "output_type": "execute_result"
    }
   ],
   "source": [
    "(defn test-path\n",
    "  \"See p. 20\"\n",
    "  [t]\n",
    "  (up (+ (* 4 t) 7)\n",
    "      (+ (* 3 t) 5)\n",
    "      (+ (* 2 t) 1)))\n",
    "\n",
    "(Lagrangian-action (lg/L-free-particle 3.0) test-path 0.0 10.0)"
   ]
  },
  {
   "cell_type": "markdown",
   "metadata": {},
   "source": [
    "#### Paths of minimum Action"
   ]
  },
  {
   "cell_type": "markdown",
   "metadata": {},
   "source": [
    "Show that the action is smaller along a straight-line test path than along nearby paths"
   ]
  },
  {
   "cell_type": "code",
   "execution_count": 43,
   "metadata": {},
   "outputs": [
    {
     "data": {
      "text/plain": [
       "564.1214285996772"
      ]
     },
     "execution_count": 43,
     "metadata": {},
     "output_type": "execute_result"
    }
   ],
   "source": [
    "(defn make-η\n",
    "  \"See p. 21\"\n",
    "  [ν t1 t2]\n",
    "  (fn [t]\n",
    "    (* (- t t1) (- t t2) (ν t))))\n",
    "\n",
    "(defn varied-free-particle-action\n",
    "  \"See p. 21\"\n",
    "  [mass q ν t1 t2]\n",
    "  (fn [ε]\n",
    "    (let [η (make-η ν t1 t2)]\n",
    "      (Lagrangian-action (lg/L-free-particle mass)\n",
    "                         (+ q (* ε η)) t1 t2))))\n",
    "             \n",
    "((varied-free-particle-action 3.0 test-path (up sin cos square) 0.0 10.0) 0.01)"
   ]
  },
  {
   "cell_type": "markdown",
   "metadata": {},
   "source": [
    "Simulate lots of the paths in this manner. Proof that the minimum value of the action is the action along the straight path. For this proof it suffices that some optimization parameter is close to zero (need not be exactly zero)."
   ]
  },
  {
   "cell_type": "code",
   "execution_count": 44,
   "metadata": {},
   "outputs": [
    {
     "data": {
      "text/plain": [
       "[-9.163058228844889E-10 435.0000000594215 6]"
      ]
     },
     "execution_count": 44,
     "metadata": {},
     "output_type": "execute_result"
    }
   ],
   "source": [
    "(minimize (varied-free-particle-action 3.0 test-path (up sin cos square) 0.0 10.0) -2 1)"
   ]
  },
  {
   "cell_type": "markdown",
   "metadata": {},
   "source": [
    "I provide some helper functions for visualization:"
   ]
  },
  {
   "cell_type": "code",
   "execution_count": 45,
   "metadata": {},
   "outputs": [],
   "source": [
    "(defrecord Vega [vega-data]\n",
    "  mc/PMimeConvertible\n",
    "  (to-mime [_]\n",
    "    (mc/stream-to-string\n",
    "      {\"application/vnd.vegalite.v2+json\" vega-data})))\n",
    "\n",
    "(defn points->plot [paths x-axis-name y-axis-name]\n",
    " (let [coord-encoding (fn [coord] {:field coord :type \"quantitative\" :scale {:zero false}})\n",
    "       paths-to-data (flatten \n",
    "                         (map (fn [[id data]] \n",
    "                                  (map (fn [[t x y z]] \n",
    "                                           {:id id :t t :x x :y y :z z}) data)) paths))]\n",
    "  {:$schema \"https://vega.github.io/schema/vega-lite/v2.json\"\n",
    "   :data {:values paths-to-data}\n",
    "   :encoding \n",
    "     {:x (coord-encoding x-axis-name) \n",
    "      :y (coord-encoding y-axis-name)}\n",
    "   :layer\n",
    "   [{:mark \"line\"\n",
    "     :encoding\n",
    "     {:order {:field \"t\" :type \"temporal\"}\n",
    "      :color {:field \"id\" :type \"nominal\"}}}\n",
    "    {:mark {:type \"point\" :filled true}}]}))\n",
    "\n",
    "(defn alt-range [t0 t1 nofsteps]\n",
    "    (map float (flatten [t0 (linear-interpolants t0 t1 (- nofsteps 2)) t1])))\n",
    "\n",
    "(defn make-path-txyz [fn_t t0 t1 nofsteps]\n",
    "  (mapv #(cons % (.v (fn_t %)))\n",
    "    (alt-range t0 t1 nofsteps)))\n",
    "\n",
    "(defn points-xy->plot [paths] \n",
    "  (points->plot paths \"x\" \"y\"))\n",
    "\n",
    "(defn points-xz->plot [paths] \n",
    "  (points->plot paths \"x\" \"z\"))\n",
    "\n",
    "(defn points-tz->plot [paths] \n",
    "  (points->plot paths \"t\" \"z\"))\n",
    "\n",
    "(defn vega-lite [vega-data]\n",
    "    (Vega. vega-data))\n",
    "\n",
    "(comment\n",
    "    (def werte {\"sb\" [[0 7 5 1] [1 11 8 10]]\n",
    "            \"uv\" [[2 9 2 4] [3 3  9 7]]})\n",
    "\n",
    "    (-> (points-xz->plot werte)\n",
    "         vega-lite))"
   ]
  },
  {
   "cell_type": "markdown",
   "metadata": {},
   "source": [
    "Create data to plot two straight paths in the xy plane. One path is along the x axis (name: path-along-x), the second path leads in all directions."
   ]
  },
  {
   "cell_type": "code",
   "execution_count": 46,
   "metadata": {},
   "outputs": [
    {
     "data": {
      "text/plain": [
       "#'book-examples/path-points-1"
      ]
     },
     "execution_count": 46,
     "metadata": {},
     "output_type": "execute_result"
    }
   ],
   "source": [
    "(defn path-along-x\n",
    "  [t]\n",
    "  (up (+ (* 5 t) 1)\n",
    "      (* 0 t)\n",
    "      (* 0 t)))\n",
    "\n",
    "(def path-points-1 {\"a straight x\" (make-path-txyz path-along-x 0 10 8)\n",
    "                    \"b book\" (make-path-txyz test-path 0 10 8)})"
   ]
  },
  {
   "cell_type": "markdown",
   "metadata": {},
   "source": [
    "Plot the two paths"
   ]
  },
  {
   "cell_type": "code",
   "execution_count": 47,
   "metadata": {},
   "outputs": [
    {
     "data": {
      "application/vnd.vegalite.v2+json": {
       "$schema": "https://vega.github.io/schema/vega-lite/v2.json",
       "data": {
        "values": [
         {
          "id": "a straight x",
          "t": 0,
          "x": 1,
          "y": 0,
          "z": 0
         },
         {
          "id": "a straight x",
          "t": 1.4285715,
          "x": 8.142857313156128,
          "y": 0,
          "z": 0
         },
         {
          "id": "a straight x",
          "t": 2.857143,
          "x": 15.285714626312256,
          "y": 0,
          "z": 0
         },
         {
          "id": "a straight x",
          "t": 4.285714,
          "x": 22.42857074737549,
          "y": 0,
          "z": 0
         },
         {
          "id": "a straight x",
          "t": 5.714286,
          "x": 29.57142925262451,
          "y": 0,
          "z": 0
         },
         {
          "id": "a straight x",
          "t": 7.142857,
          "x": 36.714285373687744,
          "y": 0,
          "z": 0
         },
         {
          "id": "a straight x",
          "t": 8.571428,
          "x": 43.85714149475098,
          "y": 0,
          "z": 0
         },
         {
          "id": "a straight x",
          "t": 10,
          "x": 51,
          "y": 0,
          "z": 0
         },
         {
          "id": "b book",
          "t": 0,
          "x": 7,
          "y": 5,
          "z": 1
         },
         {
          "id": "b book",
          "t": 1.4285715,
          "x": 12.714285850524902,
          "y": 9.285714387893677,
          "z": 3.857142925262451
         },
         {
          "id": "b book",
          "t": 2.857143,
          "x": 18.428571701049805,
          "y": 13.571428775787354,
          "z": 6.714285850524902
         },
         {
          "id": "b book",
          "t": 4.285714,
          "x": 24.14285659790039,
          "y": 17.857142448425293,
          "z": 9.571428298950195
         },
         {
          "id": "b book",
          "t": 5.714286,
          "x": 29.85714340209961,
          "y": 22.142857551574707,
          "z": 12.428571701049805
         },
         {
          "id": "b book",
          "t": 7.142857,
          "x": 35.571428298950195,
          "y": 26.428571224212646,
          "z": 15.285714149475098
         },
         {
          "id": "b book",
          "t": 8.571428,
          "x": 41.28571319580078,
          "y": 30.714284896850586,
          "z": 18.14285659790039
         },
         {
          "id": "b book",
          "t": 10,
          "x": 47,
          "y": 35,
          "z": 21
         }
        ]
       },
       "encoding": {
        "x": {
         "field": "x",
         "scale": {
          "zero": false
         },
         "type": "quantitative"
        },
        "y": {
         "field": "y",
         "scale": {
          "zero": false
         },
         "type": "quantitative"
        }
       },
       "layer": [
        {
         "encoding": {
          "color": {
           "field": "id",
           "type": "nominal"
          },
          "order": {
           "field": "t",
           "type": "temporal"
          }
         },
         "mark": "line"
        },
        {
         "mark": {
          "filled": true,
          "type": "point"
         }
        }
       ]
      },
      "image/png": "[encoded data removed]"
     },
     "execution_count": 47,
     "metadata": {},
     "output_type": "execute_result"
    }
   ],
   "source": [
    "(-> (points-xy->plot path-points-1)\n",
    "    vega-lite)"
   ]
  },
  {
   "cell_type": "markdown",
   "metadata": {},
   "source": [
    "Create two variations of the path-along-x. Calculate the action. Show once again that the Lagrangian-action is indeed smallest for the straight path."
   ]
  },
  {
   "cell_type": "code",
   "execution_count": 48,
   "metadata": {},
   "outputs": [
    {
     "data": {
      "text/plain": [
       "[375.0 383.8260332594603 410.3041330378416]"
      ]
     },
     "execution_count": 48,
     "metadata": {},
     "output_type": "execute_result"
    }
   ],
   "source": [
    "(defn make-varied-path [ε t0 t1]\n",
    " (+ path-along-x (* ε (make-η (up #(* 0 %) identity #(* 5.0 (sin %))) t0 t1))))\n",
    "\n",
    "(def small-varied-path (make-varied-path 0.01 0 10))\n",
    "(def large-varied-path (make-varied-path 0.02 0 10))\n",
    "\n",
    "[(Lagrangian-action (lg/L-free-particle 3.0) path-along-x 0.0 10.0)\n",
    " (Lagrangian-action (lg/L-free-particle 3.0) small-varied-path 0.0 10.0)\n",
    " (Lagrangian-action (lg/L-free-particle 3.0) large-varied-path 0.0 10.0)]"
   ]
  },
  {
   "cell_type": "markdown",
   "metadata": {},
   "source": [
    "Create data to plot the three paths in the xz plane along with their actions."
   ]
  },
  {
   "cell_type": "code",
   "execution_count": 49,
   "metadata": {},
   "outputs": [
    {
     "data": {
      "text/plain": [
       "#'book-examples/path-points-2"
      ]
     },
     "execution_count": 49,
     "metadata": {},
     "output_type": "execute_result"
    }
   ],
   "source": [
    "(def path-points-2\n",
    "    {\"path-along-x\" (make-path-txyz path-along-x 0 10 8)\n",
    "     \"small-varied-path\" (make-path-txyz small-varied-path 0 10 24)\n",
    "     \"large-varied-path\" (make-path-txyz large-varied-path 0 10 32)})"
   ]
  },
  {
   "cell_type": "markdown",
   "metadata": {},
   "source": [
    "Plot the three paths."
   ]
  },
  {
   "cell_type": "code",
   "execution_count": 50,
   "metadata": {},
   "outputs": [
    {
     "data": {
      "application/vnd.vegalite.v2+json": {
       "$schema": "https://vega.github.io/schema/vega-lite/v2.json",
       "data": {
        "values": [
         {
          "id": "path-along-x",
          "t": 0,
          "x": 1,
          "y": 0,
          "z": 0
         },
         {
          "id": "path-along-x",
          "t": 1.4285715,
          "x": 8.142857313156128,
          "y": 0,
          "z": 0
         },
         {
          "id": "path-along-x",
          "t": 2.857143,
          "x": 15.285714626312256,
          "y": 0,
          "z": 0
         },
         {
          "id": "path-along-x",
          "t": 4.285714,
          "x": 22.42857074737549,
          "y": 0,
          "z": 0
         },
         {
          "id": "path-along-x",
          "t": 5.714286,
          "x": 29.57142925262451,
          "y": 0,
          "z": 0
         },
         {
          "id": "path-along-x",
          "t": 7.142857,
          "x": 36.714285373687744,
          "y": 0,
          "z": 0
         },
         {
          "id": "path-along-x",
          "t": 8.571428,
          "x": 43.85714149475098,
          "y": 0,
          "z": 0
         },
         {
          "id": "path-along-x",
          "t": 10,
          "x": 51,
          "y": 0,
          "z": 0
         },
         {
          "id": "small-varied-path",
          "t": 0,
          "x": 1,
          "y": 0,
          "z": 0
         },
         {
          "id": "small-varied-path",
          "t": 0.4347826,
          "x": 3.1739129722118378,
          "y": -0.01808169523329512,
          "z": -0.08758686986866958
         },
         {
          "id": "small-varied-path",
          "t": 0.8695652,
          "x": 5.3478259444236755,
          "y": -0.06903920009434646,
          "z": -0.30330846411659945
         },
         {
          "id": "small-varied-path",
          "t": 1.3043479,
          "x": 7.521739363670349,
          "y": -0.1479411620851551,
          "z": -0.5470957397384874
         },
         {
          "id": "small-varied-path",
          "t": 1.7391304,
          "x": 9.695651888847351,
          "y": -0.24985615366671365,
          "z": -0.708182957737249
         },
         {
          "id": "small-varied-path",
          "t": 2.173913,
          "x": 11.8695650100708,
          "y": -0.36985286859377675,
          "z": -0.7005809183612942
         },
         {
          "id": "small-varied-path",
          "t": 2.6086957,
          "x": 14.043478727340698,
          "y": -0.5029999474388833,
          "z": -0.48978385166353494
         },
         {
          "id": "small-varied-path",
          "t": 3.0434783,
          "x": 16.2173912525177,
          "y": -0.6443659043541341,
          "z": -0.10369745832452716
         },
         {
          "id": "small-varied-path",
          "t": 3.4782608,
          "x": 18.391303777694702,
          "y": -0.7890194409814769,
          "z": 0.3746813754524938
         },
         {
          "id": "small-varied-path",
          "t": 3.9130435,
          "x": 20.5652174949646,
          "y": -0.9320292661740079,
          "z": 0.8302853177987435
         },
         {
          "id": "small-varied-path",
          "t": 4.347826,
          "x": 22.7391300201416,
          "y": -1.068463852619727,
          "z": 1.1479806824783394
         },
         {
          "id": "small-varied-path",
          "t": 4.7826085,
          "x": 24.913042545318604,
          "y": -1.1933919114252125,
          "z": 1.2445623973873214
         },
         {
          "id": "small-varied-path",
          "t": 5.2173915,
          "x": 27.086957454681396,
          "y": -1.3018821825416378,
          "z": 1.0918985814556113
         },
         {
          "id": "small-varied-path",
          "t": 5.652174,
          "x": 29.2608699798584,
          "y": -1.3890030552781065,
          "z": 0.7249055837145518
         },
         {
          "id": "small-varied-path",
          "t": 6.0869565,
          "x": 31.4347825050354,
          "y": -1.4498232903178367,
          "z": 0.23219716613764607
         },
         {
          "id": "small-varied-path",
          "t": 6.521739,
          "x": 33.6086950302124,
          "y": -1.47941151944478,
          "z": -0.2680123270677726
         },
         {
          "id": "small-varied-path",
          "t": 6.9565215,
          "x": 35.782607555389404,
          "y": -1.4728363744428874,
          "z": -0.660141064729599
         },
         {
          "id": "small-varied-path",
          "t": 7.3913045,
          "x": 37.9565224647522,
          "y": -1.425166410477674,
          "z": -0.8627201879809419
         },
         {
          "id": "small-varied-path",
          "t": 7.826087,
          "x": 40.1304349899292,
          "y": -1.3314703593877615,
          "z": -0.8503306809909795
         },
         {
          "id": "small-varied-path",
          "t": 8.26087,
          "x": 42.30434989929199,
          "y": -1.1868166357212435,
          "z": -0.6596890096315621
         },
         {
          "id": "small-varied-path",
          "t": 8.695652,
          "x": 44.4782600402832,
          "y": -0.9862744364358659,
          "z": -0.377817467692756
         },
         {
          "id": "small-varied-path",
          "t": 9.130435,
          "x": 46.652174949645996,
          "y": -0.7249115063443128,
          "z": -0.11516696855300111
         },
         {
          "id": "small-varied-path",
          "t": 9.565217,
          "x": 48.82608509063721,
          "y": -0.3977976310142169,
          "z": 0.029106951839437786
         },
         {
          "id": "small-varied-path",
          "t": 10,
          "x": 51,
          "y": 0,
          "z": 0
         },
         {
          "id": "large-varied-path",
          "t": 0,
          "x": 1,
          "y": 0,
          "z": 0
         },
         {
          "id": "large-varied-path",
          "t": 0.32258064,
          "x": 2.6129031777381897,
          "y": -0.020140309651682054,
          "z": -0.09896414109414274
         },
         {
          "id": "large-varied-path",
          "t": 0.6451613,
          "x": 4.225806355476379,
          "y": -0.07787586406920202,
          "z": -0.3629238560966791
         },
         {
          "id": "large-varied-path",
          "t": 0.9677419,
          "x": 5.838709533214569,
          "y": -0.16917860144627064,
          "z": -0.7199063016607375
         },
         {
          "id": "large-varied-path",
          "t": 1.2903225,
          "x": 7.451612710952759,
          "y": -0.2900204599765986,
          "z": -1.079915008162626
         },
         {
          "id": "large-varied-path",
          "t": 1.6129032,
          "x": 9.064516186714172,
          "y": -0.4363734070049713,
          "z": -1.3515585151103753
         },
         {
          "id": "large-varied-path",
          "t": 1.9354838,
          "x": 10.677419066429138,
          "y": -0.6042092932718752,
          "z": -1.4582235887571844
         },
         {
          "id": "large-varied-path",
          "t": 2.2580645,
          "x": 12.290322542190552,
          "y": -0.7895001800257707,
          "z": -1.351310949336669
         },
         {
          "id": "large-varied-path",
          "t": 2.580645,
          "x": 13.903225421905518,
          "y": -0.9882178695047178,
          "z": -1.0185841400537106
         },
         {
          "id": "large-varied-path",
          "t": 2.903226,
          "x": 15.516129493713379,
          "y": -1.1963345239315386,
          "z": -0.48648225323410355
         },
         {
          "id": "large-varied-path",
          "t": 3.2258065,
          "x": 17.129032373428345,
          "y": -1.4098217736149736,
          "z": 0.18380859987547926
         },
         {
          "id": "large-varied-path",
          "t": 3.548387,
          "x": 18.74193525314331,
          "y": -1.6246517098228888,
          "z": 0.9057941585687748
         },
         {
          "id": "large-varied-path",
          "t": 3.8709676,
          "x": 20.354838132858276,
          "y": -1.836796272981843,
          "z": 1.5810619508602588
         },
         {
          "id": "large-varied-path",
          "t": 4.193548,
          "x": 21.967741012573242,
          "y": -2.042227403518395,
          "z": 2.1145091757491508
         },
         {
          "id": "large-varied-path",
          "t": 4.516129,
          "x": 23.580645084381104,
          "y": -2.23691718079189,
          "z": 2.4290432348505786
         },
         {
          "id": "large-varied-path",
          "t": 4.83871,
          "x": 25.193549156188965,
          "y": -2.416837381486672,
          "z": 2.4774995887693145
         },
         {
          "id": "large-varied-path",
          "t": 5.16129,
          "x": 26.806450843811035,
          "y": -2.5779597148054596,
          "z": 2.2499675478961145
         },
         {
          "id": "large-varied-path",
          "t": 5.483871,
          "x": 28.419354915618896,
          "y": -2.7162565935462757,
          "z": 1.7754111678300473
         },
         {
          "id": "large-varied-path",
          "t": 5.806452,
          "x": 30.032258987426758,
          "y": -2.827699696148134,
          "z": 1.1173545075720808
         },
         {
          "id": "large-varied-path",
          "t": 6.129032,
          "x": 31.645160675048828,
          "y": -2.9082608598304,
          "z": 0.36428603953941896
         },
         {
          "id": "large-varied-path",
          "t": 6.451613,
          "x": 33.25806474685669,
          "y": -2.9539122592206004,
          "z": -0.38375794475261954
         },
         {
          "id": "large-varied-path",
          "t": 6.774194,
          "x": 34.87096881866455,
          "y": -2.9606256829115996,
          "z": -1.0303666969927654
         },
         {
          "id": "large-varied-path",
          "t": 7.096774,
          "x": 36.48387050628662,
          "y": -2.92437314972777,
          "z": -1.4973765172453772
         },
         {
          "id": "large-varied-path",
          "t": 7.419355,
          "x": 38.09677457809448,
          "y": -2.8411264889494188,
          "z": -1.7366599062487817
         },
         {
          "id": "large-varied-path",
          "t": 7.7419353,
          "x": 39.70967626571655,
          "y": -2.7068578910821093,
          "z": -1.7372169201695635
         },
         {
          "id": "large-varied-path",
          "t": 8.064516,
          "x": 41.322580337524414,
          "y": -2.517538895632123,
          "z": -1.526409038589985
         },
         {
          "id": "large-varied-path",
          "t": 8.387096,
          "x": 42.935482025146484,
          "y": -2.2691420066960877,
          "z": -1.1650332509341252
         },
         {
          "id": "large-varied-path",
          "t": 8.709678,
          "x": 44.54838848114014,
          "y": -1.9576379172827576,
          "z": -0.7368870372909747
         },
         {
          "id": "large-varied-path",
          "t": 9.032258,
          "x": 46.16129016876221,
          "y": -1.5790004086780152,
          "z": -0.33435489342344094
         },
         {
          "id": "large-varied-path",
          "t": 9.354838,
          "x": 47.77419185638428,
          "y": -1.1292006045820588,
          "z": -0.04217681466113105
         },
         {
          "id": "large-varied-path",
          "t": 9.67742,
          "x": 49.38709831237793,
          "y": -0.6042087871595586,
          "z": 0.07803197924252583
         },
         {
          "id": "large-varied-path",
          "t": 10,
          "x": 51,
          "y": 0,
          "z": 0
         }
        ]
       },
       "encoding": {
        "x": {
         "field": "x",
         "scale": {
          "zero": false
         },
         "type": "quantitative"
        },
        "y": {
         "field": "z",
         "scale": {
          "zero": false
         },
         "type": "quantitative"
        }
       },
       "layer": [
        {
         "encoding": {
          "color": {
           "field": "id",
           "type": "nominal"
          },
          "order": {
           "field": "t",
           "type": "temporal"
          }
         },
         "mark": "line"
        },
        {
         "mark": {
          "filled": true,
          "type": "point"
         }
        }
       ]
      },
      "image/png": "[encoded data removed]"
     },
     "execution_count": 50,
     "metadata": {},
     "output_type": "execute_result"
    }
   ],
   "source": [
    "(-> (points-xz->plot path-points-2)\n",
    "    vega-lite)"
   ]
  },
  {
   "cell_type": "markdown",
   "metadata": {},
   "source": [
    "#### Finding trajectories that minimize the action"
   ]
  },
  {
   "cell_type": "markdown",
   "metadata": {},
   "source": [
    "The SICM library provides a procedure that constructs a one dimensional path (along, say, the z axis) using an interpolation polynomial: `(make-path t0 q0 t1 q1 qs)`, where q0 and q1 are the endpoints, t0 and t1 are the corresponding times, and qs is a list of intermediate points. I give an example (note that the result, `initial-path`, is itself a function):"
   ]
  },
  {
   "cell_type": "code",
   "execution_count": 51,
   "metadata": {},
   "outputs": [
    {
     "data": {
      "text/plain": [
       "#'book-examples/initial-path"
      ]
     },
     "execution_count": 51,
     "metadata": {},
     "output_type": "execute_result"
    }
   ],
   "source": [
    "(def pi-half (* 0.5 Math/PI))\n",
    "(def initial-qs [0.1 0.2 0.2])\n",
    "(def initial-path (lg/make-path 0 1.0 pi-half 0.0 initial-qs))"
   ]
  },
  {
   "cell_type": "markdown",
   "metadata": {},
   "source": [
    "Construct a parametric action that is just the action computed along that parametric path. Find approximate solution paths of a free particle and the harmonic oszillator respectively (hint: use the SICM procedure `multidimensional-minimize`)."
   ]
  },
  {
   "cell_type": "code",
   "execution_count": 52,
   "metadata": {},
   "outputs": [
    {
     "data": {
      "text/plain": [
       "#'book-examples/harmonic-path"
      ]
     },
     "execution_count": 52,
     "metadata": {},
     "output_type": "execute_result"
    }
   ],
   "source": [
    "(defn parametric-path-actn\n",
    "  [Lagrangian t0 q0 t1 q1]\n",
    "  (fn [qs]\n",
    "    (let [path (lg/make-path t0 q0 t1 q1 qs)]\n",
    "      (Lagrangian-action Lagrangian path t0 t1))))\n",
    "\n",
    "(defn fnd-path\n",
    "  [Lagrangian t0 q0 t1 q1 initial-qs]\n",
    "  (let [minimizing-qs\n",
    "        (mn/multidimensional-minimize\n",
    "          (parametric-path-actn Lagrangian t0 q0 t1 q1)\n",
    "          initial-qs)]\n",
    "    (lg/make-path t0 q0 t1 q1 minimizing-qs)))\n",
    "\n",
    "(def free-path \n",
    "  (fnd-path (lg/L-free-particle 3.0) 0.0 1.0 pi-half 0.0 initial-qs))\n",
    "\n",
    "(def harmonic-path \n",
    "  (fnd-path (lg/L-harmonic 1.0 1.0) 0.0 1.0 pi-half 0.0 initial-qs))"
   ]
  },
  {
   "cell_type": "markdown",
   "metadata": {},
   "source": [
    "Make a plot of these one dimensional paths, this time not in the x-z plane but in the t-z plane. This shows that, upon optimization, the initial-path turns into a streight line and a sinusoidal curve respectively."
   ]
  },
  {
   "cell_type": "code",
   "execution_count": 53,
   "metadata": {},
   "outputs": [
    {
     "data": {
      "text/plain": [
       "#'book-examples/plot-3"
      ]
     },
     "execution_count": 53,
     "metadata": {},
     "output_type": "execute_result"
    }
   ],
   "source": [
    "(defn make-path-tz [fn_t t0 t1 nofsteps]\n",
    "  (map #(vector % 0 0 (fn_t %)) (alt-range t0 t1 nofsteps)))\n",
    "\n",
    "(def plot-3\n",
    "    (let [i (make-path-tz initial-path 0 pi-half 16)\n",
    "          f (make-path-tz free-path 0 pi-half 4)\n",
    "          h (make-path-tz harmonic-path 0 pi-half 8)]\n",
    "      {\"initial-path\" i \"free-path\" f \"harmonic-path\" h}))"
   ]
  },
  {
   "cell_type": "code",
   "execution_count": 54,
   "metadata": {},
   "outputs": [
    {
     "data": {
      "application/vnd.vegalite.v2+json": {
       "$schema": "https://vega.github.io/schema/vega-lite/v2.json",
       "data": {
        "values": [
         {
          "id": "initial-path",
          "t": 0,
          "x": 0,
          "y": 0,
          "z": 1
         },
         {
          "id": "initial-path",
          "t": 0.10471976,
          "x": 0,
          "y": 0,
          "z": 0.5614748874612859
         },
         {
          "id": "initial-path",
          "t": 0.20943952,
          "x": 0,
          "y": 0,
          "z": 0.29111439212745355
         },
         {
          "id": "initial-path",
          "t": 0.31415927,
          "x": 0,
          "y": 0,
          "z": 0.1471999922082905
         },
         {
          "id": "initial-path",
          "t": 0.41887903,
          "x": 0,
          "y": 0,
          "z": 0.09306995659991346
         },
         {
          "id": "initial-path",
          "t": 0.5235988,
          "x": 0,
          "y": 0,
          "z": 0.09711934488476788
         },
         {
          "id": "initial-path",
          "t": 0.62831855,
          "x": 0,
          "y": 0,
          "z": 0.13280000733162808
         },
         {
          "id": "initial-path",
          "t": 0.7330383,
          "x": 0,
          "y": 0,
          "z": 0.17862058489559715
         },
         {
          "id": "initial-path",
          "t": 0.83775806,
          "x": 0,
          "y": 0,
          "z": 0.2181465092181071
         },
         {
          "id": "initial-path",
          "t": 0.9424778,
          "x": 0,
          "y": 0,
          "z": 0.24000000262691856
         },
         {
          "id": "initial-path",
          "t": 1.0471976,
          "x": 0,
          "y": 0,
          "z": 0.2378600781361213
         },
         {
          "id": "initial-path",
          "t": 1.1519173,
          "x": 0,
          "y": 0,
          "z": 0.21046253944613375
         },
         {
          "id": "initial-path",
          "t": 1.2566371,
          "x": 0,
          "y": 0,
          "z": 0.1615999809437032
         },
         {
          "id": "initial-path",
          "t": 1.3613569,
          "x": 0,
          "y": 0,
          "z": 0.10012178770190573
         },
         {
          "id": "initial-path",
          "t": 1.4660766,
          "x": 0,
          "y": 0,
          "z": 0.03993413548014628
         },
         {
          "id": "initial-path",
          "t": 1.5707964,
          "x": 0,
          "y": 0,
          "z": -9.275841243711869e-09
         },
         {
          "id": "free-path",
          "t": 0,
          "x": 0,
          "y": 0,
          "z": 1
         },
         {
          "id": "free-path",
          "t": 0.5235988,
          "x": 0,
          "y": 0,
          "z": 0.666666889871975
         },
         {
          "id": "free-path",
          "t": 1.0471976,
          "x": 0,
          "y": 0,
          "z": 0.33333674646769357
         },
         {
          "id": "free-path",
          "t": 1.5707964,
          "x": 0,
          "y": 0,
          "z": -2.7828192465104995e-08
         },
         {
          "id": "harmonic-path",
          "t": 0,
          "x": 0,
          "y": 0,
          "z": 1
         },
         {
          "id": "harmonic-path",
          "t": 0.22439948,
          "x": 0,
          "y": 0,
          "z": 0.9749783776002791
         },
         {
          "id": "harmonic-path",
          "t": 0.44879895,
          "x": 0,
          "y": 0,
          "z": 0.9008279782946791
         },
         {
          "id": "harmonic-path",
          "t": 0.6731984,
          "x": 0,
          "y": 0,
          "z": 0.7817262413500145
         },
         {
          "id": "harmonic-path",
          "t": 0.8975979,
          "x": 0,
          "y": 0,
          "z": 0.6235832727410126
         },
         {
          "id": "harmonic-path",
          "t": 1.1219974,
          "x": 0,
          "y": 0,
          "z": 0.4340420576155073
         },
         {
          "id": "harmonic-path",
          "t": 1.3463968,
          "x": 0,
          "y": 0,
          "z": 0.22247819855640294
         },
         {
          "id": "harmonic-path",
          "t": 1.5707964,
          "x": 0,
          "y": 0,
          "z": -4.3594481070864905e-08
         }
        ]
       },
       "encoding": {
        "x": {
         "field": "t",
         "scale": {
          "zero": false
         },
         "type": "quantitative"
        },
        "y": {
         "field": "z",
         "scale": {
          "zero": false
         },
         "type": "quantitative"
        }
       },
       "layer": [
        {
         "encoding": {
          "color": {
           "field": "id",
           "type": "nominal"
          },
          "order": {
           "field": "t",
           "type": "temporal"
          }
         },
         "mark": "line"
        },
        {
         "mark": {
          "filled": true,
          "type": "point"
         }
        }
       ]
      },
      "image/png": "[encoded data removed]"
     },
     "execution_count": 54,
     "metadata": {},
     "output_type": "execute_result"
    }
   ],
   "source": [
    "(-> (points-tz->plot plot-3)\n",
    "    vega-lite)"
   ]
  },
  {
   "cell_type": "markdown",
   "metadata": {},
   "source": [
    "Show that your numerically attained harmonic-path approximates the well known analytic solution $x(t) = cos(t)$."
   ]
  },
  {
   "cell_type": "code",
   "execution_count": 55,
   "metadata": {},
   "outputs": [
    {
     "data": {
      "application/vnd.vegalite.v2+json": {
       "$schema": "https://vega.github.io/schema/vega-lite/v2.json",
       "data": {
        "values": [
         {
          "id": "diff",
          "t": 0,
          "x": 0,
          "y": 0,
          "z": 0
         },
         {
          "id": "diff",
          "t": 0.04619989,
          "x": 0,
          "y": 0,
          "z": -7.671834322175997e-05
         },
         {
          "id": "diff",
          "t": 0.09239978,
          "x": 0,
          "y": 0,
          "z": -0.00010860706749193927
         },
         {
          "id": "diff",
          "t": 0.13859968,
          "x": 0,
          "y": 0,
          "z": -0.00010728327100284485
         },
         {
          "id": "diff",
          "t": 0.18479957,
          "x": 0,
          "y": 0,
          "z": -8.29425350068469e-05
         },
         {
          "id": "diff",
          "t": 0.23099945,
          "x": 0,
          "y": 0,
          "z": -4.4383160910821395e-05
         },
         {
          "id": "diff",
          "t": 0.27719936,
          "x": 0,
          "y": 0,
          "z": 9.599721031428032e-07
         },
         {
          "id": "diff",
          "t": 0.32339925,
          "x": 0,
          "y": 0,
          "z": 4.697191995761685e-05
         },
         {
          "id": "diff",
          "t": 0.36959913,
          "x": 0,
          "y": 0,
          "z": 8.880487949147753e-05
         },
         {
          "id": "diff",
          "t": 0.41579902,
          "x": 0,
          "y": 0,
          "z": 0.00012281589686402583
         },
         {
          "id": "diff",
          "t": 0.4619989,
          "x": 0,
          "y": 0,
          "z": 0.00014649543373868035
         },
         {
          "id": "diff",
          "t": 0.5081988,
          "x": 0,
          "y": 0,
          "z": 0.00015838685703950528
         },
         {
          "id": "diff",
          "t": 0.5543987,
          "x": 0,
          "y": 0,
          "z": 0.00015799703380836583
         },
         {
          "id": "diff",
          "t": 0.6005986,
          "x": 0,
          "y": 0,
          "z": 0.0001456982511808258
         },
         {
          "id": "diff",
          "t": 0.6467985,
          "x": 0,
          "y": 0,
          "z": 0.0001226215651295437
         },
         {
          "id": "diff",
          "t": 0.69299835,
          "x": 0,
          "y": 0,
          "z": 9.054207768210976e-05
         },
         {
          "id": "diff",
          "t": 0.73919827,
          "x": 0,
          "y": 0,
          "z": 5.175583669891903e-05
         },
         {
          "id": "diff",
          "t": 0.7853982,
          "x": 0,
          "y": 0,
          "z": 8.949468304764174e-06
         },
         {
          "id": "diff",
          "t": 0.83159804,
          "x": 0,
          "y": 0,
          "z": -3.493802994436468e-05
         },
         {
          "id": "diff",
          "t": 0.87779796,
          "x": 0,
          "y": 0,
          "z": -7.686076977131417e-05
         },
         {
          "id": "diff",
          "t": 0.9239978,
          "x": 0,
          "y": 0,
          "z": -0.00011381774362317909
         },
         {
          "id": "diff",
          "t": 0.97019774,
          "x": 0,
          "y": 0,
          "z": -0.00014301194695343078
         },
         {
          "id": "diff",
          "t": 1.0163976,
          "x": 0,
          "y": 0,
          "z": -0.00016201492980394416
         },
         {
          "id": "diff",
          "t": 1.0625975,
          "x": 0,
          "y": 0,
          "z": -0.0001689378569151856
         },
         {
          "id": "diff",
          "t": 1.1087974,
          "x": 0,
          "y": 0,
          "z": -0.00016260757155406314
         },
         {
          "id": "diff",
          "t": 1.1549973,
          "x": 0,
          "y": 0,
          "z": -0.00014274809267844635
         },
         {
          "id": "diff",
          "t": 1.2011971,
          "x": 0,
          "y": 0,
          "z": -0.00011016679420233766
         },
         {
          "id": "diff",
          "t": 1.2473971,
          "x": 0,
          "y": 0,
          "z": -6.694447648686319e-05
         },
         {
          "id": "diff",
          "t": 1.293597,
          "x": 0,
          "y": 0,
          "z": -1.6630247973048462e-05
         },
         {
          "id": "diff",
          "t": 1.3397969,
          "x": 0,
          "y": 0,
          "z": 3.5560901828074476e-05
         },
         {
          "id": "diff",
          "t": 1.3859967,
          "x": 0,
          "y": 0,
          "z": 8.254695797293987e-05
         },
         {
          "id": "diff",
          "t": 1.4321966,
          "x": 0,
          "y": 0,
          "z": 0.00011517573067143516
         },
         {
          "id": "diff",
          "t": 1.4783965,
          "x": 0,
          "y": 0,
          "z": 0.00012201823904099685
         },
         {
          "id": "diff",
          "t": 1.5245965,
          "x": 0,
          "y": 0,
          "z": 8.916159372329008e-05
         },
         {
          "id": "diff",
          "t": 1.5707964,
          "x": 0,
          "y": 0,
          "z": -1.169089309975076e-10
         }
        ]
       },
       "encoding": {
        "x": {
         "field": "t",
         "scale": {
          "zero": false
         },
         "type": "quantitative"
        },
        "y": {
         "field": "z",
         "scale": {
          "zero": false
         },
         "type": "quantitative"
        }
       },
       "layer": [
        {
         "encoding": {
          "color": {
           "field": "id",
           "type": "nominal"
          },
          "order": {
           "field": "t",
           "type": "temporal"
          }
         },
         "mark": "line"
        },
        {
         "mark": {
          "filled": true,
          "type": "point"
         }
        }
       ]
      },
      "image/png": "[encoded data removed]"
     },
     "execution_count": 55,
     "metadata": {},
     "output_type": "execute_result"
    }
   ],
   "source": [
    "(-> (points-tz->plot\n",
    "     {\"diff\" \n",
    "      (make-path-tz #(- (cos %) (harmonic-path %)) 0 pi-half 35)})\n",
    "    vega-lite)"
   ]
  },
  {
   "cell_type": "markdown",
   "metadata": {},
   "source": [
    "Calculate the Lagrange equation of the harmonic oszillator."
   ]
  },
  {
   "cell_type": "code",
   "execution_count": 56,
   "metadata": {},
   "outputs": [
    {
     "data": {
      "text/latex": [
       "\\[\\displaystyle{k\\,q\\left(t\\right) + m\\,{D}^{2}q\\left(t\\right)}\\]"
      ]
     },
     "execution_count": 56,
     "metadata": {},
     "output_type": "execute_result"
    }
   ],
   "source": [
    "(tex$$ (((Lagrange-equations (lg/L-harmonic 'm 'k)) (literal-function 'q)) 't))"
   ]
  },
  {
   "cell_type": "markdown",
   "metadata": {},
   "source": [
    "## 1.5 The Euler-Lagrange Equations"
   ]
  },
  {
   "cell_type": "markdown",
   "metadata": {},
   "source": [
    "### 1.5.2 Computing Lagrange's Equations"
   ]
  },
  {
   "cell_type": "markdown",
   "metadata": {},
   "source": [
    "#### The free particle"
   ]
  },
  {
   "cell_type": "markdown",
   "metadata": {},
   "source": [
    "State the dynamic equation of motion (i.e. the Lagrange equation a.k.a Newton's second law) of the free particle."
   ]
  },
  {
   "cell_type": "code",
   "execution_count": 57,
   "metadata": {},
   "outputs": [
    {
     "data": {
      "text/latex": [
       "\\[\\displaystyle{m\\,{D}^{2}q\\left(t\\right)}\\]"
      ]
     },
     "execution_count": 57,
     "metadata": {},
     "output_type": "execute_result"
    }
   ],
   "source": [
    "(tex$$ (((Lagrange-equations (lg/L-free-particle 'm)) (literal-function 'q)) 't))"
   ]
  },
  {
   "cell_type": "markdown",
   "metadata": {},
   "source": [
    "Check that an arbitrary straight-line path satisfies this equation, i.e. that inserting a straight line for $q(t)$ gives identically zero (strictly speaking the zero covector of three dimensions)."
   ]
  },
  {
   "cell_type": "code",
   "execution_count": 58,
   "metadata": {},
   "outputs": [
    {
     "data": {
      "text/latex": [
       "\\[\\displaystyle{\\begin{bmatrix}0&0&0\\end{bmatrix}}\\]"
      ]
     },
     "execution_count": 58,
     "metadata": {},
     "output_type": "execute_result"
    }
   ],
   "source": [
    "(letfn [(straight-line [t]\n",
    "  (up (+ (* 'a t) 'a0)\n",
    "    (+ (* 'b t) 'b0)\n",
    "    (+ (* 'c t) 'c0)))]\n",
    "  (tex$$ (((Lagrange-equations (lg/L-free-particle 'm)) straight-line) 't)))"
   ]
  },
  {
   "cell_type": "markdown",
   "metadata": {},
   "source": [
    "#### The harmonic oscillator"
   ]
  },
  {
   "cell_type": "markdown",
   "metadata": {},
   "source": [
    "State the dynamic equation of motion for the harmonic oszillator with arbitrary mass and spring constant."
   ]
  },
  {
   "cell_type": "code",
   "execution_count": 59,
   "metadata": {},
   "outputs": [
    {
     "data": {
      "text/latex": [
       "\\[\\displaystyle{k\\,q\\left(t\\right) + m\\,{D}^{2}q\\left(t\\right)}\\]"
      ]
     },
     "execution_count": 59,
     "metadata": {},
     "output_type": "execute_result"
    }
   ],
   "source": [
    "(tex$$ (((Lagrange-equations (lg/L-harmonic 'm 'k)) (literal-function 'q)) 't))"
   ]
  },
  {
   "cell_type": "markdown",
   "metadata": {},
   "source": [
    "Plug in a sinusoid with arbitrary amplitude $A$, frequency $\\omega$ and phase $\\phi$ and show that the only solutions allowed are ones where $\\omega = \\sqrt{k/m}$ "
   ]
  },
  {
   "cell_type": "code",
   "execution_count": 60,
   "metadata": {},
   "outputs": [
    {
     "data": {
      "text/latex": [
       "\\[\\displaystyle{- A\\,m\\,{\\omega}^{2}\\,\\cos\\left(\\omega\\,t + \\phi\\right) + A\\,k\\,\\cos\\left(\\omega\\,t + \\phi\\right)}\\]"
      ]
     },
     "execution_count": 60,
     "metadata": {},
     "output_type": "execute_result"
    }
   ],
   "source": [
    "(let \n",
    "    [proposed-solution (fn [t] (* 'A (cos (+ (* t 'omega) 'phi))))]\n",
    "  (tex$$ (((Lagrange-equations (lg/L-harmonic 'm 'k)) proposed-solution) 't)))"
   ]
  },
  {
   "cell_type": "markdown",
   "metadata": {},
   "source": [
    "#### Exercise 1.11: Kepler's third law"
   ]
  },
  {
   "cell_type": "markdown",
   "metadata": {},
   "source": [
    "Show that a planet in circular orbit satisfies Kepler's third law $n^2a^3=G(M_1+m_2)$, where $n$ is the angular frequency of the orbit and $a$ is the distance between sun and planet. (Hint: use the reduced mass to construct the Lagrangian)"
   ]
  },
  {
   "cell_type": "code",
   "execution_count": 61,
   "metadata": {},
   "outputs": [
    {
     "data": {
      "text/latex": [
       "\\[\\displaystyle{\\begin{bmatrix}\\frac{- M_1\\,{a}^{3}\\,m_2\\,{n}^{2} + G\\,{M_1}^{2}\\,m_2 + G\\,M_1\\,{m_2}^{2}}{M_1\\,{a}^{2} + {a}^{2}\\,m_2}&0\\end{bmatrix}}\\]"
      ]
     },
     "execution_count": 61,
     "metadata": {},
     "output_type": "execute_result"
    }
   ],
   "source": [
    "(defn gravitational-energy [G M_1 m_2]\n",
    "  (fn [r]\n",
    "   (- (/ (* G M_1 m_2) r))))\n",
    "\n",
    "(defn circle [t]\n",
    "  (up 'a (* 'n t)))\n",
    "\n",
    "(let [lagrangian (lg/L-central-polar     \n",
    "                  (/ (* 'M_1 'm_2) (+ 'M_1 'm_2))     \n",
    "                  (gravitational-energy 'G 'M_1 'm_2))]\n",
    "      (tex$$ (((Lagrange-equations lagrangian) circle) 't)))"
   ]
  },
  {
   "cell_type": "markdown",
   "metadata": {},
   "source": [
    "## 1.6 How to find Lagrangians"
   ]
  },
  {
   "cell_type": "markdown",
   "metadata": {},
   "source": [
    "#### Central force field"
   ]
  },
  {
   "cell_type": "markdown",
   "metadata": {},
   "source": [
    "State the dynamic equation of motion for the uniform acceleration and the central potential, the latter in rectangular as well as in polar coordinates."
   ]
  },
  {
   "cell_type": "code",
   "execution_count": 62,
   "metadata": {
    "scrolled": true
   },
   "outputs": [
    {
     "data": {
      "text/latex": [
       "\\[\\displaystyle{\\begin{pmatrix}\\begin{bmatrix}m\\,{D}^{2}x\\left(t\\right)&g\\,m + m\\,{D}^{2}y\\left(t\\right)\\end{bmatrix}\\\\\\begin{bmatrix}\\frac{m\\,{D}^{2}x\\left(t\\right)\\,\\sqrt {{\\left(x\\left(t\\right)\\right)}^{2} + {\\left(y\\left(t\\right)\\right)}^{2}} + x\\left(t\\right)\\,DU\\left(\\sqrt {{\\left(x\\left(t\\right)\\right)}^{2} + {\\left(y\\left(t\\right)\\right)}^{2}}\\right)}{\\sqrt {{\\left(x\\left(t\\right)\\right)}^{2} + {\\left(y\\left(t\\right)\\right)}^{2}}}&\\frac{m\\,{D}^{2}y\\left(t\\right)\\,\\sqrt {{\\left(x\\left(t\\right)\\right)}^{2} + {\\left(y\\left(t\\right)\\right)}^{2}} + y\\left(t\\right)\\,DU\\left(\\sqrt {{\\left(x\\left(t\\right)\\right)}^{2} + {\\left(y\\left(t\\right)\\right)}^{2}}\\right)}{\\sqrt {{\\left(x\\left(t\\right)\\right)}^{2} + {\\left(y\\left(t\\right)\\right)}^{2}}}\\end{bmatrix}\\\\\\begin{bmatrix}- m\\,{\\left(D\\phi\\left(t\\right)\\right)}^{2}\\,r\\left(t\\right) + m\\,{D}^{2}r\\left(t\\right) + DU\\left(r\\left(t\\right)\\right)&2\\,m\\,D\\phi\\left(t\\right)\\,r\\left(t\\right)\\,Dr\\left(t\\right) + m\\,{\\left(r\\left(t\\right)\\right)}^{2}\\,{D}^{2}\\phi\\left(t\\right)\\end{bmatrix}\\end{pmatrix}}\\]"
      ]
     },
     "execution_count": 62,
     "metadata": {},
     "output_type": "execute_result"
    }
   ],
   "source": [
    "(defn make-tex-matrix [lst]\n",
    "    ;;here, the up structure is used for display purposes only\n",
    "    ;;the expressions do not conform to the specs at the bottom though\n",
    "    ;;I did not want to extend the ::up spec\n",
    "    ;;just because of displaying stuff in a convenient way\n",
    "    ;;hence the with-instrument-disabled\n",
    "  (ts/with-instrument-disabled (apply up lst)))\n",
    "\n",
    "(defn tex$$-spec [x] (ts/with-instrument-disabled (tex$$ x)))\n",
    "\n",
    "(tex$$-spec (make-tex-matrix\n",
    "           [(((Lagrange-equations\n",
    "              (lg/L-uniform-acceleration 'm 'g))\n",
    "            (up (literal-function 'x)\n",
    "              (literal-function 'y)))\n",
    "           't)\n",
    "            (((Lagrange-equations\n",
    "              (lg/L-central-rectangular 'm (literal-function 'U)))\n",
    "            (up (literal-function 'x)\n",
    "              (literal-function 'y)))\n",
    "           't)\n",
    "            (((Lagrange-equations\n",
    "              (lg/L-central-polar 'm (literal-function 'U)))\n",
    "            (up (literal-function 'r)\n",
    "              (literal-function 'phi)))\n",
    "           't)]))"
   ]
  },
  {
   "cell_type": "markdown",
   "metadata": {},
   "source": [
    "### 1.6.1 Coordinate transformations"
   ]
  },
  {
   "cell_type": "markdown",
   "metadata": {},
   "source": [
    "Calculate the $[\\dot x \\space \\dot y]$ velocity vector in polar coordinates."
   ]
  },
  {
   "cell_type": "code",
   "execution_count": 63,
   "metadata": {},
   "outputs": [
    {
     "data": {
      "text/latex": [
       "\\[\\displaystyle{\\begin{pmatrix}- r\\,\\dot {\\varphi}\\,\\sin\\left(\\varphi\\right) + \\dot r\\,\\cos\\left(\\varphi\\right)\\\\r\\,\\dot {\\varphi}\\,\\cos\\left(\\varphi\\right) + \\dot r\\,\\sin\\left(\\varphi\\right)\\end{pmatrix}}\\]"
      ]
     },
     "execution_count": 63,
     "metadata": {},
     "output_type": "execute_result"
    }
   ],
   "source": [
    "(tex$$ (velocity ((F->C p->r) (->local 't (up 'r 'φ) (up 'rdot 'φdot)))))"
   ]
  },
  {
   "cell_type": "markdown",
   "metadata": {},
   "source": [
    "Calculate the lagrangian in polar coordinates twice. Once directly and once via the lagrangian in rectangular coordinates."
   ]
  },
  {
   "cell_type": "code",
   "execution_count": 64,
   "metadata": {},
   "outputs": [
    {
     "data": {
      "text/latex": [
       "\\[\\displaystyle{\\begin{pmatrix}\\frac{1}{2}\\,m\\,{r}^{2}\\,{\\dot {\\varphi}}^{2} + \\frac{1}{2}\\,m\\,{\\dot r}^{2} - U\\left(r\\right)\\\\\\frac{1}{2}\\,m\\,{r}^{2}\\,{\\dot {\\varphi}}^{2} + \\frac{1}{2}\\,m\\,{\\dot r}^{2} - U\\left(r\\right)\\end{pmatrix}}\\]"
      ]
     },
     "execution_count": 64,
     "metadata": {},
     "output_type": "execute_result"
    }
   ],
   "source": [
    "(defn L-alternate-central-polar\n",
    "  [m U]\n",
    "  (compose (lg/L-central-rectangular m U) (F->C p->r)))\n",
    "\n",
    "(tex$$\n",
    "    (let [lcp ((lg/L-central-polar 'm (literal-function 'U))\n",
    "            (->local 't (up 'r 'φ) (up 'rdot 'φdot)))\n",
    "          lacp ((L-alternate-central-polar 'm (literal-function 'U))\n",
    "             (->local 't (up 'r 'φ) (up 'rdot 'φdot)))]\n",
    "        (make-tex-matrix [lcp lacp])))"
   ]
  },
  {
   "cell_type": "markdown",
   "metadata": {},
   "source": [
    "#### Coriolis and centrifugal forces"
   ]
  },
  {
   "cell_type": "markdown",
   "metadata": {},
   "source": [
    "State, in cartesian coordinates, the Lagrangian for the two dimensional free particle in a rotating coordinate system."
   ]
  },
  {
   "cell_type": "code",
   "execution_count": 65,
   "metadata": {},
   "outputs": [
    {
     "data": {
      "text/plain": [
       "#'book-examples/simplify-alt"
      ]
     },
     "execution_count": 65,
     "metadata": {},
     "output_type": "execute_result"
    }
   ],
   "source": [
    ";;we provide a function simplify-spec (defined at the bottom)\n",
    ";;which should be called if the specs are activated \n",
    "(defmacro simplify-alt [x]\n",
    "    (if (resolve 'simplify-spec)\n",
    "        `(simplify-spec ~x)\n",
    "        `(simplify ~x)))"
   ]
  },
  {
   "cell_type": "code",
   "execution_count": 66,
   "metadata": {},
   "outputs": [
    {
     "data": {
      "text/latex": [
       "\\[\\displaystyle{\\frac{1}{2}\\,{\\Omega}^{2}\\,m\\,{x}^{2} + \\frac{1}{2}\\,{\\Omega}^{2}\\,m\\,{y}^{2} + \\Omega\\,m\\,x\\,\\dot y - \\Omega\\,m\\,\\dot x\\,y + \\frac{1}{2}\\,m\\,{\\dot x}^{2} + \\frac{1}{2}\\,m\\,{\\dot y}^{2}}\\]"
      ]
     },
     "execution_count": 66,
     "metadata": {},
     "output_type": "execute_result"
    }
   ],
   "source": [
    "(def L-free-rectangular lg/L-free-particle)\n",
    "\n",
    "(defn L-free-polar [m]\n",
    " (compose (L-free-rectangular m) (F->C p->r)))\n",
    "\n",
    "(defn F [Omega]\n",
    " (fn [[t [r theta]]]\n",
    "  (up r (+ theta (* Omega t)))))\n",
    "\n",
    "(defn L-rotating-polar [m Omega]\n",
    " (compose (L-free-polar m) (F->C (F Omega))))\n",
    "\n",
    "(defn r->p\n",
    "  \"rectangular to polar coordinates of state.\"\n",
    "  [[_ [x y :as q]]]\n",
    "  (up (sqrt (square q)) (atan (/ y x))))\n",
    "\n",
    "(defn L-rotating-rectangular [m Omega]\n",
    "  (compose (L-rotating-polar m Omega) (F->C r->p)))\n",
    "\n",
    "(def L-simplify\n",
    "  (simplify-alt ((L-rotating-rectangular 'm 'Omega)\n",
    "    (up 't (up 'x 'y) (up 'xdot 'ydot)))))\n",
    "\n",
    "(tex$$ L-simplify)"
   ]
  },
  {
   "cell_type": "markdown",
   "metadata": {},
   "source": [
    "Derive the equations of motion, in which the centrifugal and the coriolis force appear. (Hint: take the expression just obtained and use this data as code via Clojure's macro feature)."
   ]
  },
  {
   "cell_type": "code",
   "execution_count": 67,
   "metadata": {},
   "outputs": [
    {
     "data": {
      "text/latex": [
       "\\[\\displaystyle{\\begin{bmatrix}- {\\Omega}^{2}\\,m\\,x\\left(t\\right) -2\\,\\Omega\\,m\\,Dy\\left(t\\right) + m\\,{D}^{2}x\\left(t\\right)&- {\\Omega}^{2}\\,m\\,y\\left(t\\right) + 2\\,\\Omega\\,m\\,Dx\\left(t\\right) + m\\,{D}^{2}y\\left(t\\right)\\end{bmatrix}}\\]"
      ]
     },
     "execution_count": 67,
     "metadata": {},
     "output_type": "execute_result"
    }
   ],
   "source": [
    "(defmacro L-fn [args1 args2]\n",
    "  `(fn ~args1 (fn ~args2 ~L-simplify)))\n",
    "\n",
    "(def L-rotating-rectangular-simp (L-fn [m Omega] [[t [x y] [xdot ydot]]]))\n",
    "\n",
    "(tex$$ \n",
    "    (((Lagrange-equations (L-rotating-rectangular-simp 'm 'Omega))\n",
    "          (up (literal-function 'x) (literal-function 'y)))\n",
    "         't))"
   ]
  },
  {
   "cell_type": "markdown",
   "metadata": {},
   "source": [
    "Plot a clockwise rotating path. (Hints: (1) Use the SICM function \"Gamma\" to create the triple $(t \\: (x \\: y) \\: (\\dot{x} \\: \\dot{y}))$ which can be transformed, (2) the angular frequency must be negative) "
   ]
  },
  {
   "cell_type": "code",
   "execution_count": 68,
   "metadata": {},
   "outputs": [
    {
     "data": {
      "application/vnd.vegalite.v2+json": {
       "$schema": "https://vega.github.io/schema/vega-lite/v2.json",
       "data": {
        "values": [
         {
          "id": "rotating-path-2d",
          "t": 0,
          "x": 7.000000000000001,
          "y": 11,
          "z": null
         },
         {
          "id": "rotating-path-2d",
          "t": 0.125,
          "x": 11.12041186222862,
          "y": 8.115891202721052,
          "z": null
         },
         {
          "id": "rotating-path-2d",
          "t": 0.25,
          "x": 14.020663544057955,
          "y": 3.6804882535234658,
          "z": null
         },
         {
          "id": "rotating-path-2d",
          "t": 0.375,
          "x": 15.120004473015014,
          "y": -1.779526548272321,
          "z": null
         },
         {
          "id": "rotating-path-2d",
          "t": 0.5,
          "x": 14.067448533330209,
          "y": -7.523755163620473,
          "z": null
         },
         {
          "id": "rotating-path-2d",
          "t": 0.625,
          "x": 10.818101797804456,
          "y": -12.698422086713766,
          "z": null
         },
         {
          "id": "rotating-path-2d",
          "t": 0.75,
          "x": 5.665973643911502,
          "y": -16.462738006373673,
          "z": null
         },
         {
          "id": "rotating-path-2d",
          "t": 0.875,
          "x": -0.7749820304799805,
          "y": -18.12265578916162,
          "z": null
         },
         {
          "id": "rotating-path-2d",
          "t": 1,
          "x": -7.64200483704658,
          "y": -17.2510800262058,
          "z": null
         },
         {
          "id": "rotating-path-2d",
          "t": 1.125,
          "x": -13.93893057072037,
          "y": -13.77452229823732,
          "z": null
         },
         {
          "id": "rotating-path-2d",
          "t": 1.25,
          "x": -18.68044583970571,
          "y": -8.010364737627222,
          "z": null
         },
         {
          "id": "rotating-path-2d",
          "t": 1.375,
          "x": -21.044338929952158,
          "y": -0.645793311594346,
          "z": null
         },
         {
          "id": "rotating-path-2d",
          "t": 1.5,
          "x": -20.508458870258266,
          "y": 7.341874063679186,
          "z": null
         },
         {
          "id": "rotating-path-2d",
          "t": 1.625,
          "x": -16.950194721830435,
          "y": 14.814592430844383,
          "z": null
         },
         {
          "id": "rotating-path-2d",
          "t": 1.75,
          "x": -10.69090914896265,
          "y": 20.635635720002103,
          "z": null
         },
         {
          "id": "rotating-path-2d",
          "t": 1.875,
          "x": -2.475343539241264,
          "y": 23.841223214481605,
          "z": null
         },
         {
          "id": "rotating-path-2d",
          "t": 2,
          "x": 6.614488264277301,
          "y": 23.795977496243726,
          "z": null
         },
         {
          "id": "rotating-path-2d",
          "t": 2.125,
          "x": 15.301368694109716,
          "y": 20.307618424791205,
          "z": null
         },
         {
          "id": "rotating-path-2d",
          "t": 2.25,
          "x": 22.29231788109355,
          "y": 13.681285154848455,
          "z": null
         },
         {
          "id": "rotating-path-2d",
          "t": 2.375,
          "x": 26.470200232410804,
          "y": 4.702100557844234,
          "z": null
         },
         {
          "id": "rotating-path-2d",
          "t": 2.5,
          "x": 27.069211562814242,
          "y": -5.455069694110598,
          "z": null
         },
         {
          "id": "rotating-path-2d",
          "t": 2.625,
          "x": 23.80704614963592,
          "y": -15.378745190330246,
          "z": null
         },
         {
          "id": "rotating-path-2d",
          "t": 2.75,
          "x": 16.951798157277285,
          "y": -23.616975658092432,
          "z": null
         },
         {
          "id": "rotating-path-2d",
          "t": 2.875,
          "x": 7.310454107422587,
          "y": -28.889245589721934,
          "z": null
         },
         {
          "id": "rotating-path-2d",
          "t": 3,
          "x": -3.863003573869154,
          "y": -30.28328257286971,
          "z": null
         }
        ]
       },
       "encoding": {
        "x": {
         "field": "x",
         "scale": {
          "zero": false
         },
         "type": "quantitative"
        },
        "y": {
         "field": "y",
         "scale": {
          "zero": false
         },
         "type": "quantitative"
        }
       },
       "layer": [
        {
         "encoding": {
          "color": {
           "field": "id",
           "type": "nominal"
          },
          "order": {
           "field": "t",
           "type": "temporal"
          }
         },
         "mark": "line"
        },
        {
         "mark": {
          "filled": true,
          "type": "point"
         }
        }
       ]
      },
      "image/png": "[encoded data removed]"
     },
     "execution_count": 68,
     "metadata": {},
     "output_type": "execute_result"
    }
   ],
   "source": [
    "(defn test-path-2d\n",
    "  [t]\n",
    "  (up\n",
    "   (+ (* 3 t) 7)\n",
    "   (+ (* 5 t) 11)))\n",
    "\n",
    "(defn rotate-path [path-fn]\n",
    "(simplify-alt\n",
    " ((F->C p->r)\n",
    "  ((F->C (F 'Omega))\n",
    "   ((F->C r->p)\n",
    "    ((Gamma path-fn) 't))))))\n",
    "\n",
    "(def xy (nth (rotate-path test-path-2d) 2))\n",
    "(def x (nth xy 1))\n",
    "(def y (nth xy 2))\n",
    "\n",
    "(defmacro P-fn [args1 args2]\n",
    "  `(fn ~args1 (up (fn ~args2 ~x) (fn ~args2 ~y))))\n",
    "\n",
    "(def rotating-path-2d (P-fn [Omega] [t]))\n",
    "\n",
    "(let [NegativeOm -3]\n",
    "    (-> (points-xy->plot {\"rotating-path-2d\" (make-path-txyz (rotating-path-2d NegativeOm) 0 3 25)})\n",
    "        vega-lite))"
   ]
  },
  {
   "cell_type": "markdown",
   "metadata": {},
   "source": [
    "Show that this path indeed satiesfies the equations of motion in a rotating coordinate system."
   ]
  },
  {
   "cell_type": "code",
   "execution_count": 69,
   "metadata": {},
   "outputs": [
    {
     "data": {
      "text/latex": [
       "\\[\\displaystyle{\\begin{bmatrix}0&0\\end{bmatrix}}\\]"
      ]
     },
     "execution_count": 69,
     "metadata": {},
     "output_type": "execute_result"
    }
   ],
   "source": [
    "(tex$$\n",
    "   (let [Om 'Omega\n",
    "         NegativeOm (* -1 Om)]\n",
    "     (((Lagrange-equations (L-rotating-rectangular-simp 'm Om))\n",
    "       (rotating-path-2d NegativeOm))\n",
    "      't)))"
   ]
  },
  {
   "cell_type": "markdown",
   "metadata": {},
   "source": [
    "### 1.6.2 Systems with rigid constraints"
   ]
  },
  {
   "cell_type": "markdown",
   "metadata": {},
   "source": [
    "#### A pendulum driven at the pivot"
   ]
  },
  {
   "cell_type": "markdown",
   "metadata": {},
   "source": [
    "State Lagrange’s equation for this system."
   ]
  },
  {
   "cell_type": "code",
   "execution_count": 70,
   "metadata": {},
   "outputs": [
    {
     "data": {
      "text/latex": [
       "\\[\\displaystyle{g\\,l\\,m\\,\\sin\\left(\\theta\\left(t\\right)\\right) + {l}^{2}\\,m\\,{D}^{2}\\theta\\left(t\\right) + l\\,m\\,{D}^{2}y\\left(t\\right)\\,\\sin\\left(\\theta\\left(t\\right)\\right)}\\]"
      ]
     },
     "execution_count": 70,
     "metadata": {},
     "output_type": "execute_result"
    }
   ],
   "source": [
    "(defn T-pend\n",
    "  [m l _ ys]\n",
    "  (fn [local]\n",
    "    (let [[t theta thetadot] local\n",
    "          vys (D ys)]\n",
    "      (* 1/2 m\n",
    "         (+ (square (* l thetadot))\n",
    "            (square (vys t))\n",
    "            (* 2 l (vys t) thetadot (sin theta)))))))\n",
    "\n",
    "(defn V-pend\n",
    "  [m l g ys]\n",
    "  (fn [local]\n",
    "    (let [[t theta _] local]\n",
    "      (* m g (- (ys t) (* l (cos theta)))))))\n",
    "\n",
    "(def L-pend (- T-pend V-pend))\n",
    "\n",
    "(def theta (literal-function 'theta))\n",
    "(def y (literal-function 'y))\n",
    "\n",
    "(tex$$ (((Lagrange-equations (L-pend 'm 'l 'g y)) theta) 't))"
   ]
  },
  {
   "cell_type": "markdown",
   "metadata": {},
   "source": [
    "State the Lagrangian"
   ]
  },
  {
   "cell_type": "code",
   "execution_count": 71,
   "metadata": {},
   "outputs": [
    {
     "data": {
      "text/latex": [
       "\\[\\displaystyle{\\frac{1}{2}\\,{l}^{2}\\,m\\,{\\dot {\\theta}}^{2} + l\\,m\\,\\dot {\\theta}\\,Dy\\left(t\\right)\\,\\sin\\left(\\theta\\right) + g\\,l\\,m\\,\\cos\\left(\\theta\\right) - g\\,m\\,y\\left(t\\right) + \\frac{1}{2}\\,m\\,{\\left(Dy\\left(t\\right)\\right)}^{2}}\\]"
      ]
     },
     "execution_count": 71,
     "metadata": {},
     "output_type": "execute_result"
    }
   ],
   "source": [
    "(tex$$ ((L-pend 'm 'l 'g y) (->local 't 'θ 'θdot)))"
   ]
  },
  {
   "cell_type": "markdown",
   "metadata": {},
   "source": [
    "### 1.6.3 Constraints as Coordinate Transformations"
   ]
  },
  {
   "cell_type": "markdown",
   "metadata": {},
   "source": [
    "Derive the previous result by using coordinate transformations."
   ]
  },
  {
   "cell_type": "code",
   "execution_count": 72,
   "metadata": {},
   "outputs": [
    {
     "data": {
      "text/latex": [
       "\\[\\displaystyle{\\frac{1}{2}\\,{l}^{2}\\,m\\,{\\dot {\\theta}}^{2} + l\\,m\\,\\dot {\\theta}\\,Dy\\left(t\\right)\\,\\sin\\left(\\theta\\right) + g\\,l\\,m\\,\\cos\\left(\\theta\\right) - g\\,m\\,y\\left(t\\right) + \\frac{1}{2}\\,m\\,{\\left(Dy\\left(t\\right)\\right)}^{2}}\\]"
      ]
     },
     "execution_count": 72,
     "metadata": {},
     "output_type": "execute_result"
    }
   ],
   "source": [
    "(defn L-uniform-acceleration [m g]\n",
    "  (fn [[_ [_ y] v]]\n",
    "    (- (* 1/2 m (square v)) (* m g y))))\n",
    "\n",
    "(defn dp-coordinates [l y_s]\n",
    "  (fn [[t θ]]\n",
    "    (let [x (* l (sin θ))\n",
    "          y (- (y_s t) (* l (cos θ)))]\n",
    "      (up x y))))\n",
    "\n",
    "(defn L-pend2 [m l g y_s]\n",
    "  (comp (L-uniform-acceleration m g)\n",
    "        (F->C (dp-coordinates l y_s))))\n",
    "\n",
    "(tex$$ ((L-pend2 'm 'l 'g y) (->local 't 'θ 'θdot)))"
   ]
  },
  {
   "cell_type": "markdown",
   "metadata": {},
   "source": [
    "### 1.8.3 Central Forces in Three Dimensions"
   ]
  },
  {
   "cell_type": "markdown",
   "metadata": {},
   "source": [
    "Calculate the z-component of the angular momentum of an arbitrary path in rectangular and spherical coordinates."
   ]
  },
  {
   "cell_type": "code",
   "execution_count": 73,
   "metadata": {},
   "outputs": [
    {
     "data": {
      "text/latex": [
       "\\[\\displaystyle{\\begin{pmatrix}m\\,x\\,\\dot y - m\\,\\dot x\\,y\\\\m\\,{r}^{2}\\,\\dot {\\varphi}\\,{\\sin}^{2}\\left(\\theta\\right)\\end{pmatrix}}\\]"
      ]
     },
     "execution_count": 73,
     "metadata": {},
     "output_type": "execute_result"
    }
   ],
   "source": [
    "(def rectangular-state (up 't\n",
    "                           (up 'x 'y 'z)\n",
    "                           (up 'xdot 'ydot 'zdot)))\n",
    "\n",
    "(def spherical-state (up 't\n",
    "                         (up 'r 'θ 'φ)\n",
    "                         (up 'rdot 'θdot 'φdot)))\n",
    "\n",
    "(defn ang-mom-z [m]\n",
    "  (fn [[_ xyz v]]\n",
    "    (get (cross-product xyz (* m v)) 2)))\n",
    "\n",
    "(tex$$\n",
    "  (make-tex-matrix\n",
    "    [((ang-mom-z 'm) rectangular-state)\n",
    "     ((compose (ang-mom-z 'm) (F->C s->r)) spherical-state)]))"
   ]
  },
  {
   "cell_type": "markdown",
   "metadata": {},
   "source": [
    "Using sherical coordinates, calculate the generalized forces and the generalized momenta of a planet moving in a central potential. Thus show that the momentum conjugate to the third coordinate $\\phi$ is (1) conserved (because the respective force is zero) and (2) identical the z-component of the angular momentum."
   ]
  },
  {
   "cell_type": "code",
   "execution_count": 74,
   "metadata": {},
   "outputs": [
    {
     "data": {
      "text/latex": [
       "\\[\\displaystyle{\\begin{pmatrix}\\begin{bmatrix}m\\,r\\,{\\dot {\\varphi}}^{2}\\,{\\sin}^{2}\\left(\\theta\\right) + m\\,r\\,{\\dot {\\theta}}^{2} - DU\\left(r\\right)&m\\,{r}^{2}\\,{\\dot {\\varphi}}^{2}\\,\\sin\\left(\\theta\\right)\\,\\cos\\left(\\theta\\right)&0\\end{bmatrix}\\\\\\begin{bmatrix}m\\,\\dot r&m\\,{r}^{2}\\,\\dot {\\theta}&m\\,{r}^{2}\\,\\dot {\\varphi}\\,{\\sin}^{2}\\left(\\theta\\right)\\end{bmatrix}\\end{pmatrix}}\\]"
      ]
     },
     "execution_count": 74,
     "metadata": {},
     "output_type": "execute_result"
    }
   ],
   "source": [
    "(def U (literal-function 'U))\n",
    "\n",
    "(defn T3-spherical [m]\n",
    " (compose (L-free-rectangular m) (F->C s->r)))\n",
    "\n",
    "(defn L3-central [m Vr]\n",
    "  (let [Vs (fn [[_ [r]]] (Vr r))]\n",
    "    (- (T3-spherical m) Vs)))\n",
    "\n",
    "(tex$$\n",
    "  (make-tex-matrix\n",
    "    [(((∂ 1) (L3-central 'm U)) spherical-state)\n",
    "     (((∂ 2) (L3-central 'm U)) spherical-state)]))"
   ]
  },
  {
   "cell_type": "markdown",
   "metadata": {},
   "source": [
    "Show that the energy state function computed from the Lagrangian for a central field is in fact T + V."
   ]
  },
  {
   "cell_type": "code",
   "execution_count": 75,
   "metadata": {},
   "outputs": [
    {
     "data": {
      "text/latex": [
       "\\[\\displaystyle{\\begin{pmatrix}\\frac{1}{2}\\,m\\,{r}^{2}\\,{\\dot {\\varphi}}^{2}\\,{\\sin}^{2}\\left(\\theta\\right) + \\frac{1}{2}\\,m\\,{r}^{2}\\,{\\dot {\\theta}}^{2} + \\frac{1}{2}\\,m\\,{\\dot r}^{2}\\\\\\frac{1}{2}\\,m\\,{r}^{2}\\,{\\dot {\\varphi}}^{2}\\,{\\sin}^{2}\\left(\\theta\\right) + \\frac{1}{2}\\,m\\,{r}^{2}\\,{\\dot {\\theta}}^{2} + \\frac{1}{2}\\,m\\,{\\dot r}^{2} + U\\left(r\\right)\\end{pmatrix}}\\]"
      ]
     },
     "execution_count": 75,
     "metadata": {},
     "output_type": "execute_result"
    }
   ],
   "source": [
    "(tex$$\n",
    "  (make-tex-matrix\n",
    "   [((T3-spherical 'm) (->local 't (up 'r 'θ 'φ) (up 'rdot 'θdot 'φdot)))\n",
    "    ((Lagrangian->energy (L3-central 'm U)) spherical-state)]))"
   ]
  },
  {
   "cell_type": "markdown",
   "metadata": {},
   "source": [
    "# Clojure Spec Definitions for this Notebook"
   ]
  },
  {
   "cell_type": "markdown",
   "metadata": {},
   "source": [
    "The definitions are minimal and closely knit to the code above. To activate them, uncomment the last (ts/instrument) expression"
   ]
  },
  {
   "cell_type": "code",
   "execution_count": 76,
   "metadata": {},
   "outputs": [],
   "source": [
    "(require '[sicmutils.value :as vl]\n",
    "         '[sicmutils.numsymb :as ny]\n",
    "         '[sicmutils.generic :as gn]\n",
    "         '[sicmutils.structure :as st]\n",
    "         '[sicmutils.simplify :as sp] ;;necessary to load simplify multifunction\n",
    "         '[sicmutils.value :as vl]\n",
    "         '[sicmutils.function :as fu] ;;necessary for ((gn/* 5 (fn[x] x)) 4)\n",
    "         '[sicmutils.expression :as ex]\n",
    "         '[sicmutils.calculus.derivative :as dr]\n",
    "         '[sicmutils.numerical.minimize :as mn])"
   ]
  },
  {
   "cell_type": "code",
   "execution_count": 77,
   "metadata": {},
   "outputs": [
    {
     "data": {
      "text/plain": [
       ":book-examples/up-fnargs"
      ]
     },
     "execution_count": 77,
     "metadata": {},
     "output_type": "execute_result"
    }
   ],
   "source": [
    "(s/def ::nu number?)\n",
    "(s/def ::sy symbol?)\n",
    "(s/def ::nu-sy (s/or :nu ::nu :sy ::sy))\n",
    "(s/def ::expression\n",
    "      (s/or :exp2 ::expression-2 :exp-q ::expression-q :exp-U ::expression-U\n",
    "            :exp3 ::expression-3 :exp2-7 ::expression-gt2 :ns ::nu-sy))\n",
    "\n",
    "(s/def ::expression-gt2\n",
    "      (s/and seq?\n",
    "             #(> (count %) 2)\n",
    "             (s/cat :a-gt2 #{'* '+} :rest (s/+ ::expression))))\n",
    "(s/def ::expression-3\n",
    "      (s/and seq?\n",
    "             #(= (count %) 3)\n",
    "             (s/cat :a-3 #{'- '/ 'expt} :rest (s/+ ::expression))))\n",
    "(s/def ::expression-U\n",
    "      (s/and seq?\n",
    "             #(= (count %) 2)\n",
    "             (s/cat :a-U #{'U '(D U) '((expt D 2) U)}\n",
    "                    :rest ::expression)))\n",
    "\n",
    "(s/def ::expression-2\n",
    "      (s/and seq?\n",
    "             #(= (count %) 2)\n",
    "             (s/cat :a-2 #{'sin 'cos '- 'sqrt 'atan} :rest ::expression)))\n",
    "\n",
    "(s/def ::expression-q\n",
    "      (s/and seq?\n",
    "             #(= (count %) 2)\n",
    "             (s/cat :a-q #{'q '(D q) '((expt D 2) q)\n",
    "                           'x '(D x) '((expt D 2) x)\n",
    "                           'y '(D y) '((expt D 2) y)\n",
    "                           'z '(D z) '((expt D 2) z)\n",
    "                           'r '(D r) '((expt D 2) r)\n",
    "                           'phi '(D phi) '((expt D 2) phi)\n",
    "                           'theta '(D theta) '((expt D 2) theta)}\n",
    "                    :rest ::nu-sy)))\n",
    "\n",
    "(s/def ::type #{:sicmutils.expression/numerical-expression})\n",
    "(s/def ::eexpression (s/keys :req-un [::type ::expression]))\n",
    "(s/def ::nu-sy-eex (s/or :ns ::nu-sy :eex ::eexpression))\n",
    "\n",
    "(s/def ::differential (s/and #(instance?\n",
    "                              sicmutils.calculus.derivative.Differential %)\n",
    "                            #(s/valid? ::nu-sy-eex (second (first (.terms %))))))\n",
    "\n",
    "(s/def ::nu-sy-eex-dr (s/or :ns ::nu-sy :dr ::differential :eex ::eexpression))\n",
    "\n",
    "(s/def ::up-args (s/cat :a-up ::nu-sy-eex-dr-fn-up\n",
    "                        :b-up ::nu-sy-eex-dr-fn-up\n",
    "                        :c-up (s/? ::nu-sy-eex-dr-fn-up)))\n",
    "\n",
    "(s/def ::up (s/and #(instance? sicmutils.structure.Structure %)\n",
    "                   #(> (count %) 1)\n",
    "                   #(< (count %) 4)\n",
    "                   #(#{:sicmutils.structure/up} (vl/kind %))\n",
    "                   #(s/valid? ::up-args (seq %))))\n",
    "\n",
    "(s/def ::nu-sy-eex-dr-fn-up (s/or :nse ::nu-sy-eex :fn fn? :up ::up :dr ::differential))\n",
    "(s/def ::dow-args (s/cat :a-dow ::nu-sy-eex-dr-fn-up\n",
    "                         :b-dow ::nu-sy-eex-dr-fn-up\n",
    "                         :c-dow (s/? ::nu-sy-eex-dr-fn-up)))\n",
    "\n",
    "(s/def ::dow (s/and #(instance? sicmutils.structure.Structure %)\n",
    "                    #(> (count %) 1)\n",
    "                    #(< (count %) 4)\n",
    "                    #(#{:sicmutils.structure/down} (vl/kind %))\n",
    "                    #(s/valid? ::dow-args (seq %))))\n",
    "\n",
    "(s/def ::nu-sy-eex-dr-fn-up-dow (s/or :nsedfu ::nu-sy-eex-dr-fn-up :dow ::dow))\n",
    "\n",
    "(s/def ::sfunction #(instance? sicmutils.function.Function %))\n",
    "(s/def ::nu-sy-eex-dr-fn-up-sfn (s/or :nsedfu ::nu-sy-eex-dr-fn-up :sf ::sfunction))\n",
    "(s/def ::up-fnargs (s/cat :a-uf ::nu-sy-eex-dr-fn-up-sfn\n",
    "                          :opt (s/? (s/cat\n",
    "                                     :b-uf ::nu-sy-eex-dr-fn-up-sfn\n",
    "                                     :c-uf (s/? ::nu-sy-eex-dr-fn-up-sfn)))))"
   ]
  },
  {
   "cell_type": "code",
   "execution_count": 78,
   "metadata": {},
   "outputs": [
    {
     "data": {
      "text/plain": [
       "sicmutils.mechanics.lagrange/->local"
      ]
     },
     "execution_count": 78,
     "metadata": {},
     "output_type": "execute_result"
    }
   ],
   "source": [
    "(s/fdef ny/mul :args (s/cat :a-mul ::expression :b-mul ::expression))\n",
    "(s/fdef gn/bin* :args (s/cat :a-bmul ::nu-sy-eex-dr-fn-up-dow :b-bmul ::nu-sy-eex-dr-fn-up-dow))\n",
    "(s/fdef ny/add :args (s/cat :a-add ::expression :b-add ::expression))\n",
    "(s/fdef gn/bin+ :args (s/cat :a-badd ::nu-sy-eex-dr-fn-up :b-badd ::nu-sy-eex-dr-fn-up))\n",
    "(s/fdef ny/sub :args (s/cat :a-sub ::expression :b-sub ::expression))\n",
    "(s/fdef gn/bin- :args (s/cat :a-sub ::nu-sy-eex-dr-fn-up-dow :b-sub ::nu-sy-eex-dr-fn-up-dow))\n",
    "(s/fdef ny/div :args (s/cat :a-div ::expression :b-div ::expression))\n",
    "(s/fdef gn/bin-div :args (s/cat :a-bdiv ::nu-sy-eex-dr-fn-up :b-bdiv ::nu-sy-eex-dr-fn-up))\n",
    "(s/fdef gn/square :args (s/cat :a-squre (s/or :nse ::nu-sy-eex :up ::up :dr ::differential)))\n",
    "(s/fdef ny/expt :args (s/cat :a-expt (s/or :dr ::differential :up ::up :exp ::expression) :expt2 int?))\n",
    "(s/fdef ny/sine :args (s/cat :a (s/or :dr ::differential :ex ::expression)))\n",
    "(s/fdef gn/sin :args (s/cat :a ::nu-sy-eex-dr))\n",
    "(s/fdef ny/cosine :args (s/cat :a (s/or :dr ::differential :ex ::expression)))\n",
    "(s/fdef gn/cos :args (s/cat :a ::nu-sy-eex-dr))\n",
    "(s/fdef st/up :args ::up-fnargs)\n",
    "\n",
    "(s/fdef lg/Lagrangian-action\n",
    "  :args (s/cat :lagrangian fn? :test-path fn? :start-time number? :end-time number?))\n",
    "\n",
    "(s/fdef mn/minimize\n",
    "  :args (s/alt\n",
    "         :three (s/cat :a3-min fn? :b3-min number? :c3-min number?)\n",
    "         :four (s/cat :a4-min fn? :b4-min number? :c4-min number? :d4-min any?)))\n",
    "\n",
    "(s/fdef lg/make-path :args\n",
    "        (s/cat :t0 number? :q0 number?\n",
    "               :t1 number? :q1 number?\n",
    "               :qs (s/spec #(s/valid? (s/+ number?) (into [] %)))))\n",
    "\n",
    "(s/fdef lg/parametric-path-action :args\n",
    "        (s/cat :a1 fn? :a2 number? :a3 number? :a4 number? :a5 number?))\n",
    "\n",
    "(s/fdef mn/multidimensional-minimize :args\n",
    "        (s/alt :two (s/cat :a1 fn? :a2 (s/spec (s/+ number?)))\n",
    "               :three (s/cat :a1 fn? :a2 (s/spec (s/+ number?)) :a3 any?)))\n",
    "\n",
    "(s/fdef lg/find-path :args (s/cat :a1 fn? :a2 number?\n",
    "                                  :a3 number? :a4 number? :a5 number? :a6 int?))\n",
    "\n",
    "(s/fdef lg/linear-interpolants :args (s/cat :a1 number? :a2 number? :a3 int?))\n",
    "(s/fdef lg/L-harmonic :args (s/cat :a1 ::nu-sy :a2 ::nu-sy))\n",
    "(s/fdef lg/Lagrange-equations :args (s/cat :a1 fn?))\n",
    "(s/fdef lg/L-uniform-acceleration :args (s/cat :a1 ::nu-sy :a2 ::nu-sy))\n",
    "(s/fdef lg/L-central-rectangular :args\n",
    "        (s/cat :a1 ::nu-sy-eex :a2 (s/or :o1 ::sfunction :o2 fn?)))\n",
    "\n",
    "(s/fdef lg/L-central-polar :args\n",
    "        (s/cat :a1 ::nu-sy-eex :a2 (s/or :o1 ::sfunction :o2 fn?)))\n",
    "\n",
    "(s/fdef lg/F->C :args (s/cat :a fn?))\n",
    "(s/fdef lg/L-free-particle :args (s/cat :a ::nu-sy))\n",
    "(s/fdef lg/Gamma :args (s/cat :a fn?))\n",
    "(s/fdef lg/->local :args (s/cat :a symbol?\n",
    "                                :b (s/or :s symbol? :u ::up)\n",
    "                                :c (s/or :s symbol? :u ::up)))"
   ]
  },
  {
   "cell_type": "code",
   "execution_count": 79,
   "metadata": {},
   "outputs": [
    {
     "data": {
      "text/plain": [
       "book-examples/simplify-spec"
      ]
     },
     "execution_count": 79,
     "metadata": {},
     "output_type": "execute_result"
    }
   ],
   "source": [
    "(s/def ::up-down-expression\n",
    "  (s/and seq?\n",
    "         #(> (count %) 2)\n",
    "         #(< (count %) 5)\n",
    "         (s/cat :a-udex #{'up 'down}\n",
    "                :rest (s/+ (s/or :e ::expression :udex ::up-down-expression)))))\n",
    "\n",
    "(defn simplify-spec [x]\n",
    "      (let [s (ts/with-instrument-disabled (gn/simplify x))]\n",
    "          (do\n",
    "              (if-not  (s/valid? (s/or :e ::expression :udex ::up-down-expression) s)\n",
    "                (throw (Exception. \"simplify result does not conform to spec\")))\n",
    "              s)))\n",
    "\n",
    "(s/fdef simplify-spec :args (s/cat :a (s/or :e ::eexpression :u ::up :d ::dow)))"
   ]
  },
  {
   "cell_type": "markdown",
   "metadata": {},
   "source": [
    "If you like to activate spec: (ts/instrument)\n",
    "If you like to deactivate spec: (ts/unstrument)"
   ]
  },
  {
   "cell_type": "code",
   "execution_count": 80,
   "metadata": {},
   "outputs": [
    {
     "data": {
      "text/plain": [
       "[sicmutils.mechanics.lagrange/make-path sicmutils.mechanics.lagrange/L-harmonic sicmutils.mechanics.lagrange/parametric-path-action sicmutils.mechanics.lagrange/linear-interpolants sicmutils.numsymb/mul sicmutils.mechanics.lagrange/Lagrangian-action sicmutils.numsymb/add book-examples/simplify-spec sicmutils.numsymb/cosine sicmutils.mechanics.lagrange/Gamma sicmutils.generic/bin* sicmutils.numsymb/sub sicmutils.mechanics.lagrange/L-uniform-acceleration sicmutils.structure/up sicmutils.numerical.minimize/multidimensional-minimize sicmutils.mechanics.lagrange/L-central-rectangular sicmutils.generic/cos sicmutils.numerical.minimize/minimize sicmutils.numsymb/div sicmutils.numsymb/expt sicmutils.generic/bin+ sicmutils.generic/square sicmutils.mechanics.lagrange/L-free-particle sicmutils.mechanics.lagrange/L-central-polar sicmutils.numsymb/sine sicmutils.mechanics.lagrange/find-path sicmutils.generic/sin sicmutils.generic/bin-div sicmutils.mechanics.lagrange/F->C sicmutils.generic/bin- sicmutils.mechanics.lagrange/Lagrange-equations sicmutils.mechanics.lagrange/->local]"
      ]
     },
     "execution_count": 80,
     "metadata": {},
     "output_type": "execute_result"
    }
   ],
   "source": [
    ";;(ts/instrument)"
   ]
  }
 ],
 "metadata": {
  "kernelspec": {
   "display_name": "Lein-Clojure",
   "language": "clojure",
   "name": "lein-clojure"
  },
  "language_info": {
   "file_extension": ".clj",
   "mimetype": "text/x-clojure",
   "name": "clojure",
   "version": "1.10.0-beta8"
  }
 },
 "nbformat": 4,
 "nbformat_minor": 2
}
